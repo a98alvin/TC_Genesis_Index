{
 "cells": [
  {
   "cell_type": "markdown",
   "id": "3d65617c-bc8e-41fa-a725-a0af5af95eb8",
   "metadata": {},
   "source": [
    "# This notebook (future script) is the basis of processing ERA5 files and calculating environmental variables for creating a ML TCGI. "
   ]
  },
  {
   "cell_type": "code",
   "execution_count": 4,
   "id": "d27006e9-7c10-4696-9511-f4301b167ebf",
   "metadata": {},
   "outputs": [],
   "source": [
    "# Import libraries\n",
    "import xarray as xr\n",
    "import numpy as np\n",
    "import matplotlib.pyplot as plt\n",
    "import cartopy.crs as ccrs\n",
    "import time\n",
    "import os\n",
    "from functools import partial\n",
    "from useful_functions import era_5_datestrings,generate_pathstrs"
   ]
  },
  {
   "cell_type": "markdown",
   "id": "31e4b162-d649-4c3e-aab3-64a5ef3e38bd",
   "metadata": {},
   "source": [
    "# Begin by sorting through which ERA5 files are desired for each variable, including the date intervals"
   ]
  },
  {
   "cell_type": "markdown",
   "id": "059f6bf5-4ef6-4995-8a03-f04404cc55f0",
   "metadata": {},
   "source": [
    "# 1) Absolute Vorticity"
   ]
  },
  {
   "cell_type": "code",
   "execution_count": 2,
   "id": "d02c178d-4b92-40c4-b844-384ee9b6d68f",
   "metadata": {},
   "outputs": [],
   "source": [
    "data_interval = 7\n",
    "date_range_list = era_5_datestrings(data_interval)\n",
    "variable_id = '138_vo' # for relative vorticity\n",
    "\n",
    "all_path_strs = generate_pathstrs(date_range_list,variable_id)"
   ]
  },
  {
   "cell_type": "code",
   "execution_count": null,
   "id": "e60e556c-9412-4f69-aa9c-3599f6cca819",
   "metadata": {
    "tags": []
   },
   "outputs": [],
   "source": [
    "# Open only pressure level 850 hPa\n",
    "def _preprocess(x,level):\n",
    "    return x.sel(level=level)\n",
    "\n",
    "start = time.time()\n",
    "\n",
    "level = 850 # hPa\n",
    "partial_func = partial(_preprocess, level=level)\n",
    "\n",
    "# Load weekly data\n",
    "for begin_ind in np.arange(0,len(all_path_strs),data_interval):\n",
    "\n",
    "    current_path_strs = all_path_strs[begin_ind:begin_ind+data_interval]\n",
    "    datasets = xr.open_mfdataset(current_path_strs,preprocess=partial_func, parallel=True)['VO'].drop('level')\n",
    "    # Create array Coriolis Parameter\n",
    "    omega = 7.292 * 10 **-5 # 1/s\n",
    "    f = 2*omega*np.sin(np.deg2rad(datasets.latitude))\n",
    "\n",
    "    # Calculate Absolute Vorticity\n",
    "    abs_vort = datasets + f\n",
    "\n",
    "    # Calculate interval mean\n",
    "    mean_abs_vort_850 = abs_vort.mean('time')\n",
    "    mean_abs_vort_850 = mean_abs_vort_850.assign_coords({\"beg\":np.asarray(abs_vort['time'][0])})\n",
    "    mean_abs_vort_850 = mean_abs_vort_850.assign_coords({\"end\":np.asarray(abs_vort['time'][-1])})\n",
    "\n",
    "    # Save absolute vorticity\n",
    "    path = \"/glade/scratch/acheung/abs_vort\"\n",
    "    # Check whether the specified path exists or not\n",
    "    isExist = os.path.exists(path)\n",
    "    if not isExist:\n",
    "    # Create a new directory because it does not exist\n",
    "        os.makedirs(path) \n",
    "\n",
    "\n",
    "    variable_file_name_base = current_path_strs[0][57:90] + str(data_interval) + 'd_mean.'\n",
    "    variable_file_name_start_time = current_path_strs[0][90:101]\n",
    "    variable_file_name_end_time = current_path_strs[-1][101:]\n",
    "\n",
    "    var_file_name_full = variable_file_name_base + variable_file_name_start_time + variable_file_name_end_time\n",
    "\n",
    "\n",
    "    mean_abs_vort_850.to_dataset(name='Absolute Vorticity').to_netcdf('/glade/scratch/acheung/abs_vort/'+var_file_name_full)\n",
    "\n",
    "# end time\n",
    "end = time.time()\n",
    "\n",
    "# total time taken\n",
    "print(f\"Runtime of the program is {end - start}\")"
   ]
  },
  {
   "cell_type": "code",
   "execution_count": null,
   "id": "9dde4d44-465c-4201-98df-e9489584ddd8",
   "metadata": {},
   "outputs": [],
   "source": [
    "plt.figure(figsize=(10,7))\n",
    "ax = plt.axes(projection=ccrs.PlateCarree())\n",
    "ax.set_global()\n",
    "ax.coastlines()\n",
    "ax.gridlines(draw_labels=True)\n",
    "ax.set_extent([-100, 0, 0, 80])\n",
    "letsee['Absolute Vorticity'].plot(vmin=0,vmax=0.00015)\n"
   ]
  }
 ],
 "metadata": {
  "kernelspec": {
   "display_name": "Python [conda env:.conda-squalls]",
   "language": "python",
   "name": "conda-env-.conda-squalls-py"
  },
  "language_info": {
   "codemirror_mode": {
    "name": "ipython",
    "version": 3
   },
   "file_extension": ".py",
   "mimetype": "text/x-python",
   "name": "python",
   "nbconvert_exporter": "python",
   "pygments_lexer": "ipython3",
   "version": "3.11.4"
  }
 },
 "nbformat": 4,
 "nbformat_minor": 5
}
