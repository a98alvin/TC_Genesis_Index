{
 "cells": [
  {
   "cell_type": "code",
   "execution_count": 1,
   "id": "644bbd29-21e7-452c-a9db-960e961df21e",
   "metadata": {},
   "outputs": [],
   "source": [
    "# Import Functions\n",
    "import numpy as np\n",
    "import matplotlib.pyplot as plt\n",
    "import os\n",
    "import cartopy.crs as ccrs\n",
    "from useful_functions import data_compiler"
   ]
  },
  {
   "cell_type": "markdown",
   "id": "ae6d05e9-d886-4f17-802b-37132fee57ee",
   "metadata": {},
   "source": [
    "# Compile Data from all times"
   ]
  },
  {
   "cell_type": "code",
   "execution_count": 2,
   "id": "34bd2b06-ca15-4ee0-b5ae-07fefc9aff56",
   "metadata": {},
   "outputs": [
    {
     "ename": "ValueError",
     "evalue": "too many values to unpack (expected 4)",
     "output_type": "error",
     "traceback": [
      "\u001b[0;31m---------------------------------------------------------------------------\u001b[0m",
      "\u001b[0;31mValueError\u001b[0m                                Traceback (most recent call last)",
      "Cell \u001b[0;32mIn[2], line 16\u001b[0m\n\u001b[1;32m     13\u001b[0m vardesired \u001b[38;5;241m=\u001b[39m vars_list[\u001b[38;5;28mint\u001b[39m(varinput) \u001b[38;5;241m-\u001b[39m \u001b[38;5;241m1\u001b[39m]\n\u001b[1;32m     15\u001b[0m \u001b[38;5;66;03m# Compile Data for a Variable for all timesteps (including years and coordinates)\u001b[39;00m\n\u001b[0;32m---> 16\u001b[0m Varcompiled, YearList, lons, lats \u001b[38;5;241m=\u001b[39m data_compiler(vardesired) \n\u001b[1;32m     17\u001b[0m lonsmeshed, latsmeshed \u001b[38;5;241m=\u001b[39m np\u001b[38;5;241m.\u001b[39mmeshgrid(lons, lats)\n\u001b[1;32m     19\u001b[0m \u001b[38;5;66;03m# Variable Names for Directory Use\u001b[39;00m\n",
      "\u001b[0;31mValueError\u001b[0m: too many values to unpack (expected 4)"
     ]
    }
   ],
   "source": [
    "vars_list = os.listdir(\"/glade/work/acheung/TC_Genesis\") # Determine Variables\n",
    "# varinput = input('Enter Number (1. Absolute Vorticity at 850 hPa, 2. Column Relative Humidity, 3. Vertical Shear, 5. Potential Intensity, 6. Saturation Deficit): ')\n",
    "\n",
    "inputarray = np.asarray(range(0,5))\n",
    "inputarray = np.concatenate([inputarray[0:3],inputarray[-2:] + 1]) + 1\n",
    "for varinput in inputarray:\n",
    "\n",
    "    # Variable Names (neat)\n",
    "    strofvarnames = ['Absolute Vorticity (850 hPa)', 'Column Relative Humidity', 'Vertical Shear','Mistake', 'Potential Intensity', 'Saturation Deficit']\n",
    "\n",
    "    # Index of variable chosen\n",
    "    varchosen = strofvarnames[int(varinput) - 1]\n",
    "    vardesired = vars_list[int(varinput) - 1]\n",
    "\n",
    "    # Compile Data for a Variable for all timesteps (including years and coordinates)\n",
    "    Varcompiled, YearList, lons, lats = data_compiler(vardesired) \n",
    "    lonsmeshed, latsmeshed = np.meshgrid(lons, lats)\n",
    "\n",
    "    # Variable Names for Directory Use\n",
    "    strofvardirnames = ['Absolute_Vorticity_850_hPa', 'Column_Relative_Humidity', 'Vertical_Shear','Mistake', 'Potential_Intensity', 'Saturation_Deficit']\n",
    "\n",
    "    # Legend Units\n",
    "    stroflegendunits = ['Absolute Vorticity ($s^{-1}$)','Relative Humidity (Fractional)','Vertical Shear (m $s^{-1}$)','Mistake','Potential Intensity (m $s^{-1}$)','Saturation Deficit (g $kg^{-1}$)']\n",
    "\n",
    "    # Set Minimum and Maximum ranges for pcolormesh plot\n",
    "\n",
    "    if int(varinput) == 1: # Absolute Vorticity (850 hPa)\n",
    "        minrange = 0\n",
    "        maxrange = 0.0003\n",
    "        cmapdesired = 'viridis'\n",
    "\n",
    "    elif int(varinput) == 2:\n",
    "        minrange = 0.4\n",
    "        maxrange = 1\n",
    "        cmapdesired = 'YlGn'\n",
    "\n",
    "    elif int(varinput) == 3:\n",
    "        minrange = 0\n",
    "        maxrange = 50\n",
    "        cmapdesired = 'viridis'\n",
    "    elif int(varinput) == 5:\n",
    "        minrange = 0\n",
    "        maxrange = 110\n",
    "        cmapdesired = 'viridis'\n",
    "    elif int(varinput) == 6:\n",
    "        minrange = -60\n",
    "        maxrange = 0\n",
    "        cmapdesired = 'YlGn'\n",
    "\n",
    "    # Create Plots in Loop\n",
    "    month = range(0,12) # Index of month to be selected\n",
    "\n",
    "    for currentmonth in month: # Loop of current month (Sorted by month)\n",
    "        for yearstep in range(0,Varcompiled.shape[0]): # Loop of current year\n",
    "            fig = plt.figure(figsize=(10,7))\n",
    "            varcurrent = Varcompiled[yearstep,:,:,currentmonth] # Call compiled data at specific month and year\n",
    "\n",
    "            if int(varinput) == 1: # I took the absolute value of the entire matrix.... NOTE that we could also just multiple SH by -1... To be tested later...\n",
    "                varcurrent = np.absolute(varcurrent)\n",
    "\n",
    "            # Create cartopy plot\n",
    "            ax = plt.axes(projection=ccrs.Robinson())\n",
    "            ax.set_global()\n",
    "            contourmap = ax.pcolormesh(lonsmeshed, latsmeshed, varcurrent, transform=ccrs.PlateCarree(),cmap=cmapdesired,vmin=minrange,vmax=maxrange)\n",
    "            ax.coastlines()\n",
    "            ax.gridlines()\n",
    "            currentyear = YearList[yearstep] # Call current year\n",
    "\n",
    "            # Create string for month\n",
    "            if currentmonth+1<10: # add one to the index for actual month\n",
    "                monthstr = '0' + str(currentmonth+1)\n",
    "            else:\n",
    "                monthstr = str(currentmonth+1)\n",
    "\n",
    "            ax.set_title(varchosen+' (' + monthstr +'/' + str(currentyear + ')')) # Variable of plot (month/year)\n",
    "            cbar = plt.colorbar(contourmap,extend='both') # Defined Colorbar Range using vmin/vmax\n",
    "            cbar.ax.set_ylabel(stroflegendunits[int(varinput) - 1])\n",
    "            plt.tight_layout()\n",
    "            # Save Figure\n",
    "            plt.savefig('/glade/work/acheung/Initial_Plots/'+ strofvardirnames[int(varinput) - 1]+\n",
    "                        '/' + monthstr + '/' +\n",
    "                        strofvardirnames[int(varinput) - 1] + '_' +currentyear+'_'+ monthstr +'.jpg',dpi=250)\n",
    "\n",
    "            plt.close()\n",
    "            print('Variable: '+ varchosen +' Month: ' + monthstr + ' Year: ' + str(currentyear))\n",
    "\n",
    "        # Create GIF\n",
    "        os.chdir('/glade/work/acheung/Initial_Plots/'+strofvardirnames[int(varinput) - 1] + '/' + monthstr) # Change Directory\n",
    "        command = 'convert -delay 100 -loop 0 *.jpg ' + strofvardirnames[int(varinput) - 1] + '_' + monthstr + '.gif' # String command for GIF\n",
    "        os.system(command) # Execute command to make GIF"
   ]
  },
  {
   "cell_type": "code",
   "execution_count": 5,
   "id": "32206f8d-e4a1-493f-b41a-a69a3b2fdbde",
   "metadata": {},
   "outputs": [
    {
     "ename": "ValueError",
     "evalue": "too many values to unpack (expected 4)",
     "output_type": "error",
     "traceback": [
      "\u001b[0;31m---------------------------------------------------------------------------\u001b[0m",
      "\u001b[0;31mValueError\u001b[0m                                Traceback (most recent call last)",
      "Cell \u001b[0;32mIn[5], line 1\u001b[0m\n\u001b[0;32m----> 1\u001b[0m Varcompiled, YearList, lons, lats \u001b[38;5;241m=\u001b[39m data_compiler(vardesired)\n",
      "\u001b[0;31mValueError\u001b[0m: too many values to unpack (expected 4)"
     ]
    }
   ],
   "source": [
    "Varcompiled, YearList, lons, lats = data_compiler(vardesired) \n"
   ]
  },
  {
   "cell_type": "code",
   "execution_count": 5,
   "id": "802e9371-be8e-4e88-9e8c-bc57777e19de",
   "metadata": {},
   "outputs": [],
   "source": [
    "# Commands to make file directories\n",
    "\n",
    "# # for i in range(0,len(strofvardirnames)):\n",
    "# #     os.system('mkdir ' + '/glade/work/acheung/Initial_Plots/'+strofvardirnames[i])\n",
    "\n",
    "# for i in range(0,len(strofvardirnames)):\n",
    "#     for m in range(1,13):\n",
    "#         if m < 10:\n",
    "#             os.system('mkdir ' + '/glade/work/acheung/Initial_Plots/' + strofvardirnames[i] + '/0' + str(m))\n",
    "#         else:\n",
    "#             os.system('mkdir ' + '/glade/work/acheung/Initial_Plots/' + strofvardirnames[i] + '/' + str(m))            "
   ]
  }
 ],
 "metadata": {
  "kernelspec": {
   "display_name": "Python [conda env:.conda-snowflakes]",
   "language": "python",
   "name": "conda-env-.conda-snowflakes-py"
  },
  "language_info": {
   "codemirror_mode": {
    "name": "ipython",
    "version": 3
   },
   "file_extension": ".py",
   "mimetype": "text/x-python",
   "name": "python",
   "nbconvert_exporter": "python",
   "pygments_lexer": "ipython3",
   "version": "3.10.9"
  }
 },
 "nbformat": 4,
 "nbformat_minor": 5
}
