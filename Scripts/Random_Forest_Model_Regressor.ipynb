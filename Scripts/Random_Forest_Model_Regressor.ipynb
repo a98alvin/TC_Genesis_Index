{
 "cells": [
  {
   "cell_type": "code",
   "execution_count": 1,
   "id": "00109ac8-1e92-47ff-a69b-4ac97de25516",
   "metadata": {},
   "outputs": [],
   "source": [
    "import numpy as np\n",
    "import xarray as xr\n",
    "from useful_functions import data_compiler\n",
    "from useful_functions import month_genesis_locs\n",
    "from useful_functions import grid_counter\n",
    "from useful_functions import environmental_select_stack\n",
    "from useful_functions import create_genesis_grid_labels\n",
    "from useful_functions import take_closest_point\n",
    "from useful_functions import temporal_spatial_smoothing\n",
    "from distance import distance_calculator\n",
    "from distance import pointdist_calc\n",
    "import os\n",
    "import tropycal.tracks as tracks\n",
    "from sklearn.ensemble import RandomForestRegressor\n",
    "import pandas as pd\n",
    "import matplotlib.pyplot as plt\n",
    "import warnings\n",
    "import cartopy.crs as ccrs\n",
    "import copy\n",
    "warnings.simplefilter(action='ignore', category=FutureWarning)"
   ]
  },
  {
   "cell_type": "code",
   "execution_count": 2,
   "id": "57a8165b-8ee7-4dc1-80ef-e671f6e99636",
   "metadata": {},
   "outputs": [],
   "source": [
    "# Compile Environmental Data\n",
    "vars_list = os.listdir(\"/glade/work/acheung/TC_Genesis\") # Determine Variables\n",
    "vars_list.remove('.DS_Store')\n",
    "vars_list.remove('CRH_ERA5')\n",
    "all_vars_list = []\n",
    "for vars_list_now in vars_list:\n",
    "    Varcompiled, YearList,lons,lats,arr = data_compiler(vars_list_now)\n",
    "    all_vars_list.append(Varcompiled)\n",
    "\n",
    "arr = xr.DataArray(all_vars_list,coords=[(\"Variable\",vars_list),(\"Year\",range(1950,2021)),(\"Latitude\",lats),(\"Longitude\",lons),(\"Month\",range(1,13))])\n",
    "\n",
    "# # Time ranges for EVERYTHING desired\n",
    "month_range = np.arange(1,13,1)\n",
    "test_years = np.arange(2005,2021,1)\n",
    "train_years = np.arange(1950,2005,1)\n",
    "train_years = np.setdiff1d(train_years, np.arange(1971,1979,1))\n",
    "Latitude=np.arange(0,80,2)\n",
    "Longitude=np.arange(260,360,2)\n",
    "\n",
    "train_stacked,train_NaNlocs = environmental_select_stack(month_range,train_years,Latitude,Longitude,arr)\n",
    "test_stacked,test_NaNlocs = environmental_select_stack(month_range,test_years,Latitude,Longitude,arr)\n",
    "\n",
    "# Normalize environmental data for training\n",
    "\n",
    "# Min/Max Scaling (Normalization)\n",
    "train_stacked_copy = copy.deepcopy(train_stacked)\n",
    "test_stacked_copy = copy.deepcopy(test_stacked)\n",
    "for varloops in range(train_stacked_copy.shape[0]): \n",
    "    # Normalize Training Data\n",
    "    train_stacked_copy[varloops,:] = (train_stacked_copy[varloops] - train_stacked_copy[varloops].min())/(train_stacked_copy[varloops].max()-train_stacked_copy[varloops].min())\n",
    "    # Normalize Testing Data Using Training Data Range and Minimum\n",
    "    test_stacked_copy[varloops,:] = (test_stacked_copy[varloops] - train_stacked_copy[varloops].min())/(train_stacked_copy[varloops].max()-train_stacked_copy[varloops].min())\n",
    "\n",
    "train_env_data = train_stacked_copy.drop_isel(z=train_NaNlocs).transpose()\n",
    "test_env_data = test_stacked_copy.drop_isel(z=test_NaNlocs).transpose()"
   ]
  },
  {
   "cell_type": "code",
   "execution_count": 3,
   "id": "fe3a4d0a-b1b3-4294-b3dd-550b45c2c71e",
   "metadata": {},
   "outputs": [],
   "source": [
    "#--------------------------------------------------------------------------------------------------------\n",
    "# # Grab ibtracs data (uncomment this section if you want to recreate genesis (observed) labels, otherwise it is already saved)\n",
    "# basin_dataset = tracks.TrackDataset(basin='north_atlantic',source='ibtracs',include_btk=True)\n",
    "\n",
    "# # Create genesis labels from ibtracs data (slowest step)\n",
    "# vmin=0\n",
    "# print('Training Dataset')\n",
    "# train_labels_predropped = create_genesis_grid_labels(month_range,train_years,vmin,basin_dataset)\n",
    "# print('Testing Dataset')\n",
    "# test_labels_predropped = create_genesis_grid_labels(month_range,test_years,vmin,basin_dataset)\n",
    "\n",
    "# train_labels_predropped.unstack().to_dataset(name='Genesis_Grids').to_netcdf(\"/glade/work/acheung/Initial_RF_Datasets/train_labels_predropped.nc\")\n",
    "#test_labels_predropped.unstack().to_dataset(name='Genesis_Grids').to_netcdf(\"/glade/work/acheung/Initial_RF_Datasets/test_labels_predropped.nc\")\n",
    "#--------------------------------------------------------------------------------------------------------"
   ]
  },
  {
   "cell_type": "code",
   "execution_count": 12,
   "id": "8f351375-f43a-4a00-9e1f-d0bb24f48c25",
   "metadata": {},
   "outputs": [],
   "source": [
    "# Read in already created genesis (obs) labels\n",
    "train_labels_predropped_read = xr.open_dataset(\"/glade/work/acheung/Initial_RF_Datasets/train_labels_predropped.nc\")['Genesis_Grids']\n",
    "test_labels_predropped_read = xr.open_dataset(\"/glade/work/acheung/Initial_RF_Datasets/test_labels_predropped.nc\")['Genesis_Grids']\n",
    "\n",
    "# Smooth Training Labels\n",
    "smoothed_training_labels = temporal_spatial_smoothing(train_labels_predropped_read.astype(float),0.5,1)\n",
    "smoothed_training_labels_dropped = smoothed_training_labels.stack(z=(\"Month\",\"Latitude\",\"Longitude\",\"Year\")).drop_isel(z=train_NaNlocs).transpose() # Drop Smoothed Labels\n",
    "# Note that above cuts off smoothed labeled values over land, thus changing the sum (may need to revisit)\n",
    "\n",
    "# Normalize Training Labels?\n",
    "\n",
    "# Stack Test Labels\n",
    "test_labels_stacked = test_labels_predropped_read.stack(z=(\"Month\",\"Latitude\",\"Longitude\",\"Year\")).drop_isel(z=test_NaNlocs).transpose()"
   ]
  },
  {
   "cell_type": "code",
   "execution_count": null,
   "id": "3f89f301-ec76-4ca8-9c78-7a0e723990e0",
   "metadata": {},
   "outputs": [],
   "source": [
    "# Fit RF Model\n",
    "clf = RandomForestRegressor()\n",
    "clf.fit(train_env_data, smoothed_training_labels_dropped)"
   ]
  },
  {
   "cell_type": "code",
   "execution_count": null,
   "id": "5787ec2a-db74-4710-b38a-8aa171a99259",
   "metadata": {},
   "outputs": [],
   "source": [
    "test_ML_Predict = clf.predict(test_env_data)"
   ]
  },
  {
   "cell_type": "code",
   "execution_count": null,
   "id": "b941b055-cf26-409c-8ad2-02c9345c2da1",
   "metadata": {},
   "outputs": [],
   "source": [
    "test_ML_Predict_XR = xr.DataArray(test_ML_Predict,coords=test_labels_stacked.coords)"
   ]
  },
  {
   "cell_type": "code",
   "execution_count": null,
   "id": "be283e09-7ad8-481c-9da8-8f110b47b09b",
   "metadata": {},
   "outputs": [],
   "source": [
    "plt.figure()\n",
    "ax = plt.axes(projection=ccrs.PlateCarree())\n",
    "ax.set_global()\n",
    "ax.coastlines()\n",
    "ax.gridlines(draw_labels=True)\n",
    "ax.set_extent([-100, 0, 0, 80])\n",
    "(test_ML_Predict_XR.unstack().sel(Month=9,Year=2005)).plot()\n",
    "plt.savefig('RF_Reg_plot.png',dpi=300)"
   ]
  },
  {
   "cell_type": "code",
   "execution_count": 18,
   "id": "f8a48d8a-bbdf-489b-aea5-e8f4e4d0d3b3",
   "metadata": {},
   "outputs": [],
   "source": [
    "# # Read in already created genesis (obs) labels\n",
    "# train_labels_predropped_read = xr.open_dataset(\"/glade/work/acheung/Initial_RF_Datasets/train_labels_predropped.nc\")['Genesis_Grids']\n",
    "# # train_labels_predropped = train_labels_predropped_read.stack(z=(\"Month\",\"Latitude\",\"Longitude\",\"Year\"))\n",
    "\n",
    "# test_labels_predropped_read = xr.open_dataset(\"/glade/work/acheung/Initial_RF_Datasets/test_labels_predropped.nc\")['Genesis_Grids']\n",
    "# # test_labels_predropped = test_labels_predropped_read.stack(z=(\"Month\",\"Latitude\",\"Longitude\",\"Year\"))\n",
    "\n",
    "# temporal_spatial_smoothing()\n",
    "\n",
    "# # For points that have no data, take closest point (< 300 km) or delete\n",
    "# trainunstacklabels = take_closest_point(train_labels_predropped,train_NaNlocs,train_stacked,vars_list)\n",
    "# testunstacklabels = take_closest_point(test_labels_predropped,test_NaNlocs,test_stacked,vars_list)\n",
    "\n",
    "# # Stack labels (obs) and drop NaN locations (resulting from no env data, usually over land)\n",
    "# trainstackedlabels = trainunstacklabels.stack(z=(\"Month\",\"Latitude\",\"Longitude\",\"Year\"))\n",
    "# train_labels = trainstackedlabels.drop_isel(z=train_NaNlocs)\n",
    "# teststackedlabels = testunstacklabels.stack(z=(\"Month\",\"Latitude\",\"Longitude\",\"Year\"))\n",
    "# test_labels = teststackedlabels.drop_isel(z=test_NaNlocs)\n",
    "\n",
    "# # Fit RF Model\n",
    "# clf = RandomForestClassifier()\n",
    "# clf.fit(train_env_data, train_labels.Genesis_Grids)\n",
    "# probs = clf.predict_proba(test_env_data)\n",
    "# genesisprobs = 1 - probs[:,0]\n",
    "# testprobs_formatted = xr.DataArray(genesisprobs,coords=test_labels.coords).unstack() # Genesis probability\n",
    "\n",
    "# # Unstack and formatted test labels (observed)\n",
    "# testlabelpoints = test_labels.Genesis_Grids.unstack()\n",
    "# trainlabelpoints = train_labels.Genesis_Grids.unstack()\n",
    "# # Save testlabelpoints (observed) and testprobs_formatted (prediction)\n",
    "# testlabelpoints.to_netcdf(\"/glade/work/acheung/Initial_RF_Datasets/test_label_points_obs.nc\")\n",
    "# trainlabelpoints.to_netcdf(\"/glade/work/acheung/Initial_RF_Datasets/train_label_points_obs.nc\")\n",
    "# testprobs_formatted.to_netcdf(\"/glade/work/acheung/Initial_RF_Datasets/probabilities_prediction.nc\")"
   ]
  },
  {
   "cell_type": "code",
   "execution_count": null,
   "id": "c34e32da-97b4-42f6-8141-cdeb50236f79",
   "metadata": {},
   "outputs": [],
   "source": []
  }
 ],
 "metadata": {
  "kernelspec": {
   "display_name": "Python [conda env:.conda-snowflakes]",
   "language": "python",
   "name": "conda-env-.conda-snowflakes-py"
  },
  "language_info": {
   "codemirror_mode": {
    "name": "ipython",
    "version": 3
   },
   "file_extension": ".py",
   "mimetype": "text/x-python",
   "name": "python",
   "nbconvert_exporter": "python",
   "pygments_lexer": "ipython3",
   "version": "3.10.9"
  }
 },
 "nbformat": 4,
 "nbformat_minor": 5
}
